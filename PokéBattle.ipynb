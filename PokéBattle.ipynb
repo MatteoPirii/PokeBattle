{
 "cells": [
  {
   "attachments": {},
   "cell_type": "markdown",
   "id": "ecfb8e64aac0d2f9",
   "metadata": {
    "collapsed": false
   },
   "source": [
    "<h1 align='center'> PokéBattle Bot Analysis Notebook </h1>\n",
    "\n",
    "# Introduction\n",
    "\n",
    "The aim of this project is to delve into the development and analysis of a bot designed to play Pokémon Showdown autonomously. Pokémon Showdown is a popular online battle simulator that provides a competitive platform for players to test their strategic skills in Pokémon battles. By leveraging artificial intelligence techniques, the bot simulates human decision-making, navigating complex battle scenarios to choose the most effective strategies.\n",
    "\n",
    "### Objectives\n",
    "\n",
    "This project focuses on three primary objectives. \n",
    "- First, it seeks to study the bot's main functions, uncovering how its underlying algorithms allow it to perform tasks such as predicting opponent moves, selecting optimal actions, and adapting to dynamic game conditions. \n",
    "- Second, the decision-making logic employed by the bot will be analyzed to understand the mechanisms and heuristics that drive its strategic choices. \n",
    "- Third, the project will explore how the bot evaluates potential moves and switches, emphasizing its methods for assessing battle conditions and weighing the outcomes of different actions.\n",
    "\n",
    "### Tool\n",
    "Our bot utilizes [Pokémon Showdown](https://pokemonshowdown.com/) to engage in matches with randomly generated teams, facilitated through an [API](https://github.com/pmariglia/showdown).  \n",
    "\n",
    "Pokémon Showdown is an online simulator designed for competitive Pokémon battles. It faithfully replicates the in-game battling experience and adheres to official rules and community guidelines, making it a favorite among competitive players. Accessible directly through a web browser without any downloads, Pokémon Showdown offers a quick and convenient way to battle.  \n",
    "\n",
    "Players can either build custom teams by selecting their favorite Pokémon, moves, abilities, and strategies, or opt for random battles with automatically generated teams. Our bot focuses on the latter, engaging in exciting random battles to showcase its capabilities.  \n",
    "\n",
    "Pokémon Showdown is a professional web platform widely used in Pokémon eSports. Renowned for its fidelity to the official competitive environment, Pokémon Showdown sets a high standard by following standardized rules and community guidelines.  \n",
    "\n",
    "### Implementation\n",
    "Given the complexity of its advanced features and its status as a benchmark in online Pokémon battles, fully replicating the platform within a notebook is highly challenging. Instead, the notebook provides a simulation that also utilizes a genetic algorithm to optimize certain strategies. To see the actual bot in action and explore the project in detail, please refer to our [GitHub](https://github.com/MatteoPirii/PokeBattle) repository and its README file, where a comprehensive description is available.  \n",
    "\n"
   ]
  },
  {
   "cell_type": "markdown",
   "source": [
    "---\n",
    "# Releted Works\n",
    "\n",
    "To make the following code execution possible, we first need to download and import the necessary files from the API.\n",
    "- constants.py: A Python file with predefined constants.\n",
    "- moves.json: A JSON file containing move data for Pokémon (e.g., names, types, power, etc.).\n",
    "- pokedex.json: A JSON file containing Pokémon data (e.g., stats, abilities, and other details).\n",
    "- utility.py: A Python source file containing utility methods defined for our agent.\n",
    "- state_eval.py: A Python source file containing functions to evaluate the battle state.\n",
    "- helpers.py: A Python source file containing functions needed for the environment."
   ],
   "metadata": {
    "collapsed": false
   },
   "id": "196ef8c3c93a8c54"
  },
  {
   "cell_type": "code",
   "execution_count": 26,
   "outputs": [
    {
     "name": "stderr",
     "output_type": "stream",
     "text": [
      "\"wget\" non Š riconosciuto come comando interno o esterno,\n",
      " un programma eseguibile o un file batch.\n",
      "\"wget\" non Š riconosciuto come comando interno o esterno,\n",
      " un programma eseguibile o un file batch.\n",
      "\"wget\" non Š riconosciuto come comando interno o esterno,\n",
      " un programma eseguibile o un file batch.\n",
      "\"wget\" non Š riconosciuto come comando interno o esterno,\n",
      " un programma eseguibile o un file batch.\n",
      "\"wget\" non Š riconosciuto come comando interno o esterno,\n",
      " un programma eseguibile o un file batch.\n",
      "\"wget\" non Š riconosciuto come comando interno o esterno,\n",
      " un programma eseguibile o un file batch.\n"
     ]
    }
   ],
   "source": [
    "user = \"MatteoPirii\"\n",
    "repo = \"PokeBattle\"\n",
    "\n",
    "def download(pyfile: str):\n",
    "    url = f\"https://raw.githubusercontent.com/{user}/{repo}/master/{pyfile}\"\n",
    "    !wget --no-cache -P data/jupyter/ -N {url}\n",
    "\n",
    "download(\"constants.py\")\n",
    "download(\"data/moves.json\")\n",
    "download(\"data/pokedex.json\")\n",
    "download(\"showdown/battle_bots/PokeBattle/utility.py\")\n",
    "download(\"showdown/battle_bots/PokeBattle/state_eval.py\")\n",
    "download(\"showdown/battle_bots/helpers.py\")"
   ],
   "metadata": {
    "collapsed": false,
    "ExecuteTime": {
     "end_time": "2024-12-23T16:42:43.890168500Z",
     "start_time": "2024-12-23T16:42:43.590846600Z"
    }
   },
   "id": "3ae6222435f3ba8f"
  },
  {
   "cell_type": "code",
   "execution_count": 27,
   "outputs": [
    {
     "ename": "ModuleNotFoundError",
     "evalue": "No module named 'data.jupyter'",
     "output_type": "error",
     "traceback": [
      "\u001B[1;31m---------------------------------------------------------------------------\u001B[0m",
      "\u001B[1;31mModuleNotFoundError\u001B[0m                       Traceback (most recent call last)",
      "Cell \u001B[1;32mIn[27], line 11\u001B[0m\n\u001B[0;32m      8\u001B[0m \u001B[38;5;28;01mimport\u001B[39;00m \u001B[38;5;21;01mtime\u001B[39;00m\n\u001B[0;32m     10\u001B[0m PWD \u001B[38;5;241m=\u001B[39m os\u001B[38;5;241m.\u001B[39mgetcwd() \u001B[38;5;241m+\u001B[39m \u001B[38;5;124m\"\u001B[39m\u001B[38;5;124m/data/jupyter/\u001B[39m\u001B[38;5;124m\"\u001B[39m\n\u001B[1;32m---> 11\u001B[0m constants \u001B[38;5;241m=\u001B[39m \u001B[43mimportlib\u001B[49m\u001B[38;5;241;43m.\u001B[39;49m\u001B[43mimport_module\u001B[49m\u001B[43m(\u001B[49m\u001B[38;5;124;43m'\u001B[39;49m\u001B[38;5;124;43mdata.jupyter.constants\u001B[39;49m\u001B[38;5;124;43m'\u001B[39;49m\u001B[43m)\u001B[49m\n\u001B[0;32m     12\u001B[0m utility \u001B[38;5;241m=\u001B[39m importlib\u001B[38;5;241m.\u001B[39mimport_module(\u001B[38;5;124m'\u001B[39m\u001B[38;5;124mdata.jupyter.utility\u001B[39m\u001B[38;5;124m'\u001B[39m)\n\u001B[0;32m     13\u001B[0m state_eval \u001B[38;5;241m=\u001B[39m importlib\u001B[38;5;241m.\u001B[39mimport_module(\u001B[38;5;124m'\u001B[39m\u001B[38;5;124mdata.jupyter.state_eval\u001B[39m\u001B[38;5;124m'\u001B[39m)\n",
      "File \u001B[1;32m~\\AppData\\Local\\Programs\\Python\\Python312\\Lib\\importlib\\__init__.py:90\u001B[0m, in \u001B[0;36mimport_module\u001B[1;34m(name, package)\u001B[0m\n\u001B[0;32m     88\u001B[0m             \u001B[38;5;28;01mbreak\u001B[39;00m\n\u001B[0;32m     89\u001B[0m         level \u001B[38;5;241m+\u001B[39m\u001B[38;5;241m=\u001B[39m \u001B[38;5;241m1\u001B[39m\n\u001B[1;32m---> 90\u001B[0m \u001B[38;5;28;01mreturn\u001B[39;00m \u001B[43m_bootstrap\u001B[49m\u001B[38;5;241;43m.\u001B[39;49m\u001B[43m_gcd_import\u001B[49m\u001B[43m(\u001B[49m\u001B[43mname\u001B[49m\u001B[43m[\u001B[49m\u001B[43mlevel\u001B[49m\u001B[43m:\u001B[49m\u001B[43m]\u001B[49m\u001B[43m,\u001B[49m\u001B[43m \u001B[49m\u001B[43mpackage\u001B[49m\u001B[43m,\u001B[49m\u001B[43m \u001B[49m\u001B[43mlevel\u001B[49m\u001B[43m)\u001B[49m\n",
      "File \u001B[1;32m<frozen importlib._bootstrap>:1387\u001B[0m, in \u001B[0;36m_gcd_import\u001B[1;34m(name, package, level)\u001B[0m\n",
      "File \u001B[1;32m<frozen importlib._bootstrap>:1360\u001B[0m, in \u001B[0;36m_find_and_load\u001B[1;34m(name, import_)\u001B[0m\n",
      "File \u001B[1;32m<frozen importlib._bootstrap>:1310\u001B[0m, in \u001B[0;36m_find_and_load_unlocked\u001B[1;34m(name, import_)\u001B[0m\n",
      "File \u001B[1;32m<frozen importlib._bootstrap>:488\u001B[0m, in \u001B[0;36m_call_with_frames_removed\u001B[1;34m(f, *args, **kwds)\u001B[0m\n",
      "File \u001B[1;32m<frozen importlib._bootstrap>:1387\u001B[0m, in \u001B[0;36m_gcd_import\u001B[1;34m(name, package, level)\u001B[0m\n",
      "File \u001B[1;32m<frozen importlib._bootstrap>:1360\u001B[0m, in \u001B[0;36m_find_and_load\u001B[1;34m(name, import_)\u001B[0m\n",
      "File \u001B[1;32m<frozen importlib._bootstrap>:1324\u001B[0m, in \u001B[0;36m_find_and_load_unlocked\u001B[1;34m(name, import_)\u001B[0m\n",
      "\u001B[1;31mModuleNotFoundError\u001B[0m: No module named 'data.jupyter'"
     ]
    }
   ],
   "source": [
    "from copy import deepcopy\n",
    "import importlib\n",
    "import json\n",
    "import logging\n",
    "import math\n",
    "import os\n",
    "import random\n",
    "import time\n",
    "\n",
    "PWD = os.getcwd() + \"/data/jupyter/\"\n",
    "constants = importlib.import_module('data.jupyter.constants')\n",
    "utility = importlib.import_module('data.jupyter.utility')\n",
    "state_eval = importlib.import_module('data.jupyter.state_eval')\n",
    "helpers = importlib.import_module('data.jupyter.helpers')\n",
    "\n",
    "game_over = utility.game_over\n",
    "format_decision = helpers.format_decision\n"
   ],
   "metadata": {
    "collapsed": false,
    "ExecuteTime": {
     "end_time": "2024-12-23T16:42:43.905793800Z",
     "start_time": "2024-12-23T16:42:43.685447500Z"
    }
   },
   "id": "63541d37f1b43c12"
  },
  {
   "cell_type": "code",
   "execution_count": null,
   "outputs": [],
   "source": [
    "\n",
    "# Maximum depth of exploration for minimax\n",
    "MAX_DEPTH = 18\n",
    "\n",
    "# 10 seconds of tolerance\n",
    "TIME_TOLLERANCE = 10\n",
    "\n",
    "# Define the path to the 'moves.json' file using the present working directory (PWD)\n",
    "move_json_location = os.path.join(PWD, 'moves.json')\n",
    "# Open the 'moves.json' file and load its content as a Python dictionary\n",
    "with open(move_json_location) as f:\n",
    "    all_move_json = json.load(f) # Load the JSON file\n",
    "\n",
    "# Define the path to the 'pokedex.json' file using the present working directory (PWD)\n",
    "pkmn_json_location = os.path.join(PWD, 'pokedex.json')\n",
    "# Open the 'pokedex.json' file and load its content as a Python dictionary\n",
    "with open(pkmn_json_location, 'r') as f:\n",
    "    pokedex = json.loads(f.read()) # Load the JSON file"
   ],
   "metadata": {
    "collapsed": false,
    "ExecuteTime": {
     "start_time": "2024-12-23T16:42:43.708256900Z"
    }
   },
   "id": "8dd1cad3a650db8c"
  },
  {
   "cell_type": "markdown",
   "source": [
    "The next step is to define the classes used in the project"
   ],
   "metadata": {
    "collapsed": false
   },
   "id": "f00dc03011cb3ac2"
  },
  {
   "cell_type": "code",
   "execution_count": null,
   "outputs": [],
   "source": [
    "def normalize_name(name):\n",
    "    return name\\\n",
    "        .replace(\" \", \"\")\\\n",
    "        .replace(\"-\", \"\")\\\n",
    "        .replace(\".\", \"\")\\\n",
    "        .replace(\"\\'\", \"\")\\\n",
    "        .replace(\"%\", \"\")\\\n",
    "        .replace(\"*\", \"\")\\\n",
    "        .replace(\":\", \"\")\\\n",
    "        .strip()\\\n",
    "        .lower()\\\n",
    "        .encode('ascii', 'ignore')\\\n",
    "        .decode('utf-8')\n",
    "\n",
    "def common_pkmn_stat_calc(stat: int, iv: int, ev: int, level: int):\n",
    "    return math.floor(((2 * stat + iv + math.floor(ev / 4)) * level) / 100)\n",
    "\n",
    "def calculate_stats(base_stats, level, ivs=(31,) * 6, evs=(85,) * 6, nature='serious'):\n",
    "    new_stats = dict()\n",
    "\n",
    "    new_stats[constants.HITPOINTS] = common_pkmn_stat_calc(\n",
    "        base_stats[constants.HITPOINTS],\n",
    "        ivs[0],\n",
    "        evs[0],\n",
    "        level\n",
    "    ) + level + 10\n",
    "\n",
    "    new_stats[constants.ATTACK] = common_pkmn_stat_calc(\n",
    "        base_stats[constants.ATTACK],\n",
    "        ivs[1],\n",
    "        evs[1],\n",
    "        level\n",
    "    ) + 5\n",
    "\n",
    "    new_stats[constants.DEFENSE] = common_pkmn_stat_calc(\n",
    "        base_stats[constants.DEFENSE],\n",
    "        ivs[2],\n",
    "        evs[2],\n",
    "        level\n",
    "    ) + 5\n",
    "\n",
    "    new_stats[constants.SPECIAL_ATTACK] = common_pkmn_stat_calc(\n",
    "        base_stats[constants.SPECIAL_ATTACK],\n",
    "        ivs[3],\n",
    "        evs[3],\n",
    "        level\n",
    "    ) + 5\n",
    "\n",
    "    new_stats[constants.SPECIAL_DEFENSE] = common_pkmn_stat_calc(\n",
    "        base_stats[constants.SPECIAL_DEFENSE],\n",
    "        ivs[4],\n",
    "        evs[4],\n",
    "        level\n",
    "    ) + 5\n",
    "\n",
    "    new_stats[constants.SPEED] = common_pkmn_stat_calc(\n",
    "        base_stats[constants.SPEED],\n",
    "        ivs[5],\n",
    "        evs[5],\n",
    "        level\n",
    "    ) + 5\n",
    "\n",
    "    new_stats = {k: int(v) for k, v in new_stats.items()}\n",
    "    return new_stats\n",
    "from typing import List\n"
   ],
   "metadata": {
    "collapsed": false,
    "ExecuteTime": {
     "start_time": "2024-12-23T16:42:43.708256900Z"
    }
   },
   "id": "1ad42901e3a9c200"
  },
  {
   "cell_type": "code",
   "execution_count": null,
   "outputs": [],
   "source": [
    "\n",
    "# Define simple move class to simulate move options\n",
    "class Move:\n",
    "    def __init__(self, name):\n",
    "        name = normalize_name(name)\n",
    "        if constants.HIDDEN_POWER in name and not name.endswith(constants.HIDDEN_POWER_ACTIVE_MOVE_BASE_DAMAGE_STRING):\n",
    "            name = \"{}{}\".format(name, constants.HIDDEN_POWER_ACTIVE_MOVE_BASE_DAMAGE_STRING)\n",
    "        move_json = all_move_json[name]\n",
    "        self.name = name\n",
    "        self.max_pp = int(move_json.get(constants.PP) * 1.6)\n",
    "\n",
    "        self.disabled = False\n",
    "        self.can_z = False\n",
    "        self.current_pp = self.max_pp\n",
    "        self.accuracy: int | bool\n",
    "        try:\n",
    "            self.accuracy = int(move_json.get(constants.ACCURACY))\n",
    "        except:\n",
    "            self.accuracy = bool(move_json.get(constants.ACCURACY))\n",
    "\n",
    "        self.basePower: int = int(move_json.get(constants.BASE_POWER))\n",
    "        self.type: str = move_json.get(constants.TYPE)\n",
    "        self.status: str = move_json.get(constants.STATUS)\n",
    "        self.category: str = move_json.get(constants.CATEGORY)"
   ],
   "metadata": {
    "collapsed": false,
    "ExecuteTime": {
     "start_time": "2024-12-23T16:42:43.717262500Z"
    }
   },
   "id": "94e7b6f3fa3c886a"
  },
  {
   "cell_type": "code",
   "execution_count": null,
   "outputs": [],
   "source": [
    "class Pokemon:\n",
    "\n",
    "    def __init__(self, name: str, moves, level = 70, nature=\"serious\", evs=(85,) * 6):\n",
    "        self.name = normalize_name(name)\n",
    "        self.nickname = None\n",
    "        self.base_name = self.name\n",
    "        self.level = level\n",
    "        self.nature = nature\n",
    "        self.evs = evs\n",
    "        #self.speed_range = StatRange(min=0, max=float(\"inf\"))\n",
    "\n",
    "        try:\n",
    "            self.base_stats = pokedex[self.name][constants.BASESTATS]\n",
    "        except KeyError:\n",
    "            self.name = [k for k in pokedex if self.name.startswith(k)][0]\n",
    "            self.base_stats = pokedex[self.name][constants.BASESTATS]\n",
    "\n",
    "        self.stats = calculate_stats(self.base_stats, self.level, nature=nature, evs=evs)\n",
    "\n",
    "        self.max_hp = self.stats.pop(constants.HITPOINTS)\n",
    "        self.hp = self.max_hp\n",
    "        if self.name == 'shedinja':\n",
    "            self.max_hp = 1\n",
    "            self.hp = 1\n",
    "\n",
    "        self.ability = None\n",
    "        self.types = pokedex[self.name][constants.TYPES]\n",
    "        self.item = constants.UNKNOWN_ITEM\n",
    "\n",
    "        self.terastallized = False\n",
    "        self.fainted = False\n",
    "        self.reviving = False\n",
    "        self.moves = moves\n",
    "        self.status: str | None = None\n",
    "        self.volatile_statuses = []\n",
    "        self.boosts = None\n",
    "        self.can_mega_evo = False\n",
    "        self.can_ultra_burst = False\n",
    "        self.can_dynamax = False\n",
    "        self.is_mega = False\n",
    "        self.can_terastallize = False\n",
    "        self.can_have_assaultvest = True\n",
    "        self.can_have_choice_item = True\n",
    "        self.can_not_have_band = False\n",
    "        self.can_not_have_specs = False\n",
    "        self.can_have_life_orb = True\n",
    "        self.can_have_heavydutyboots = True\n",
    "\n",
    "    def is_alive(self):\n",
    "        return self.hp > 0"
   ],
   "metadata": {
    "collapsed": false,
    "ExecuteTime": {
     "start_time": "2024-12-23T16:42:43.720287900Z"
    }
   },
   "id": "8a550af706c73be5"
  },
  {
   "cell_type": "code",
   "execution_count": null,
   "outputs": [],
   "source": [
    "class Battler:\n",
    "    def __init__(self, user_dict: dict):\n",
    "        self.active: Pokemon = user_dict[\"active\"]\n",
    "        self.reserve: list[Pokemon] = user_dict[\"reserve\"]"
   ],
   "metadata": {
    "collapsed": false,
    "ExecuteTime": {
     "start_time": "2024-12-23T16:42:43.720287900Z"
    }
   },
   "id": "abbe978238b58bda"
  },
  {
   "cell_type": "code",
   "execution_count": null,
   "outputs": [],
   "source": [
    "class BattleBot:\n",
    "    def __init__(self, user, opponent):\n",
    "        self.user = user\n",
    "        self.opponent = opponent\n",
    "        self.start_time = None\n",
    "        self.debug = True  # Example, this can be changed based on need\n",
    "        self.time_remaining = 100  # Example starting time\n",
    "        self.force_switch = False  # Example, this can be changed based on need\n",
    "\n",
    "    def get_pkmn_by_switch(self, switch: str) -> Pokemon:\n",
    "        \"\"\"Returns Pokémon from a switching string\"\"\"\n",
    "        name = switch.split(' ')[1]\n",
    "        pkmn = self.get_pokemon_by_name(name)\n",
    "        return pkmn\n",
    "\n",
    "    def restore_state(self, saved_state):\n",
    "        \"\"\"Restores battle state after single move simulation\"\"\"\n",
    "        self.__dict__.update(saved_state.__dict__)\n",
    "    \n",
    "    def get_pokemon_by_name(self, name: str) -> Pokemon | None:\n",
    "        \"\"\"Returns the Pokémon with the name took from user reserve.\"\"\"\n",
    "\n",
    "        # Remove switch prefix if present\n",
    "        if name.startswith(f\"{constants.SWITCH_STRING} \"):\n",
    "            name = name.split(\" \", 1)[1]\n",
    "\n",
    "        normalized_name: str = normalize_name(name)\n",
    "        for pokemon in self.user.reserve:\n",
    "            if pokemon.name.lower() == normalized_name:\n",
    "                return pokemon\n",
    "        return None"
   ],
   "metadata": {
    "collapsed": false,
    "ExecuteTime": {
     "start_time": "2024-12-23T16:42:43.720287900Z"
    }
   },
   "id": "7da8102ee2024362"
  },
  {
   "cell_type": "markdown",
   "source": [
    "---\n",
    "# Metodologies\n",
    "\n",
    "From this point onward, the notebook contains the code for our bot, providing a detailed view of the methodologies employed and the functions implemented. Here, you can explore the logical structure of the project, understand the algorithms utilized, and examine the step-by-step implementation of each feature.  \n",
    "\n",
    "The code is designed to demonstrate the core principles behind our approach, offering insights into the strategies and techniques that drive the functionality of the bot. By delving into the provided implementation, you can gain a comprehensive understanding of how the project operates and the reasoning behind key design choices.  \n",
    "\n",
    "The main function that we will see are in the class BattleBot (different from the last one) that is the main core of our agent."
   ],
   "metadata": {
    "collapsed": false
   },
   "id": "a4f7b8bf4654f30d"
  },
  {
   "cell_type": "markdown",
   "source": [
    "## Best action selection\n",
    "\n",
    "The `find_best_move` function is a core component of the Pokémon Showdown bot. It determines the optimal action (move or switch) during each turn by employing the Minimax algorithm and considering factors such as the Pokémon's health, available moves, and the overall game state.\n",
    "\n",
    "### **Function Breakdown**\n",
    "\n",
    "### Purpose\n",
    "- To identify and execute the best possible action for the current game turn.\n",
    "- To account for both short-term and long-term consequences of each action using simulation and evaluation.\n",
    "\n",
    "### Key Steps\n",
    "\n",
    "1. **Initial Validation**\n",
    "   - Checks if the active Pokémon is alive:\n",
    "     - If **not alive**, attempts to find the best switch option.\n",
    "     - If no switches are available, returns an error or a placeholder action.\n",
    "&nbsp;          \n",
    "2. **Option Categorization**\n",
    "    - Retrieves and categorizes all available actions into **moves** and **switches** using the `options_categorization` function.\n",
    "    - Handles scenarios where switching is forced or no moves are available.\n",
    "&nbsp;\n",
    "3. **Move Evaluation with Minimax**\n",
    "   - Combines all valid moves and switches into a single list.\n",
    "   - Simulates each move using `apply_move` and evaluates its impact on the game state via the Minimax algorithm.\n",
    "   - Restores the original game state after each simulation to avoid side effects.\n",
    "&nbsp;\n",
    "4. **Final Decision**\n",
    "   - Selects the move or switch with the highest evaluated score.\n",
    "   - Formats the decision and adjusts the remaining time.\n",
    "   - Includes a fallback mechanism to randomly select an action if no optimal move is identified."
   ],
   "metadata": {
    "collapsed": false
   },
   "id": "e3e9350490ef2843"
  },
  {
   "cell_type": "code",
   "execution_count": null,
   "outputs": [],
   "source": [
    "class BattleBot(BattleBot):\n",
    "    def __init__(self, user, opponent):\n",
    "        super().__init__(user, opponent)\n",
    "\n",
    "    def find_best_move(self, user_options, switches) -> list[str]:\n",
    "        \"\"\"Finds best move or best switch using Minimax\"\"\"\n",
    "        best_move = None\n",
    "        max_value = float('-inf')\n",
    "        self.start_time = time.time()  # timer start\n",
    "\n",
    "        # Check if the Pokémon is alive or inactive\n",
    "        if not self.user.active.is_alive():\n",
    "            print(\"Error: active Pokémon is invalid or exhausted.\") if self.debug else None\n",
    "            switches = [f\"{constants.SWITCH_STRING} {name}\" for name in self.user.get_switches()]\n",
    "            if switches:\n",
    "                selected_switch = self.find_best_switch()\n",
    "                if selected_switch:\n",
    "                    self.apply_move(f\"{constants.SWITCH_STRING} {selected_switch.name}\")\n",
    "                    self.time_remaining = utility.adjust_time(int(time.time() - self.start_time), self.time_remaining)\n",
    "                    return format_decision(self, f\"{constants.SWITCH_STRING} {selected_switch.name}\")\n",
    "            else:\n",
    "                return [\"no valid move or switch\"]\n",
    "\n",
    "        # Get all available moves and switches\n",
    "        print(f\"Available moves: {user_options}\") if self.debug else None\n",
    "        moves = user_options\n",
    "\n",
    "        # If we're forced to switch or there are no available moves the first switch is returned\n",
    "        if self.force_switch or not moves:\n",
    "            if not switches:\n",
    "                print(\"Error: no available switch.\") if self.debug else None\n",
    "                self.time_remaining = utility.adjust_time(int(time.time() - self.start_time), self.time_remaining)\n",
    "                return [\"no valid move or switch\"]\n",
    "\n",
    "            switch = self.find_best_switch()\n",
    "            if switch is None:\n",
    "                switch = self.get_pkmn_by_switch(switches[0])\n",
    "\n",
    "            selected_switch = format_decision(self, f\"{constants.SWITCH_STRING} {switch.name}\")\n",
    "            print(f\"Selected switch: {selected_switch}\") if self.debug else None\n",
    "            self.time_remaining = utility.adjust_time(int(time.time() - self.start_time), self.time_remaining)\n",
    "            return selected_switch\n",
    "\n",
    "        combined_options = moves.copy()\n",
    "        combined_options.sort(key=lambda move: self.evaluate_move(move), reverse=True)\n",
    "        switch = self.find_best_switch()\n",
    "        if switch:\n",
    "            combined_options.append(f\"{constants.SWITCH_STRING} {switch.name}\")\n",
    "\n",
    "        # Execute MiniMax for each option\n",
    "        for move in combined_options:\n",
    "            saved_state = deepcopy(self)  # Saving the battle state\n",
    "            self.apply_move(move)  # Choice simulation\n",
    "            move_value = self.minimax(alpha=float('-inf'), beta=float('inf'))\n",
    "\n",
    "            self.restore_state(saved_state)  # Battle state recovery\n",
    "\n",
    "            if move_value > max_value:\n",
    "                print(f\"AAAAAA: {move_value}\")\n",
    "                max_value = move_value\n",
    "                best_move = move\n",
    "\n",
    "        # Select highest damage move\n",
    "        if (best_move is not None or max_value > 0) and not game_over(self.user, self.opponent):\n",
    "            selected_move = format_decision(self, best_move)\n",
    "            print(f\"Best found move: {selected_move}\")\n",
    "            self.time_remaining = utility.adjust_time(int(time.time() - self.start_time), self.time_remaining)\n",
    "            return selected_move  # returns formatted decision\n",
    "\n",
    "        # If no move is deemed \"best,\" pick a random one\n",
    "        if best_move is None and not game_over(self.user, self.opponent):  # If no best move was found by Minimax\n",
    "            print(f\"No best move found. Falling back to a random choice. {user_options}\")\n",
    "            best_move = random.choice(user_options)  # Random fallback choice\n",
    "            selected_move = format_decision(self, best_move)\n",
    "            self.time_remaining = utility.adjust_time(int(time.time() - self.start_time), self.time_remaining)\n",
    "            return selected_move"
   ],
   "metadata": {
    "collapsed": false,
    "ExecuteTime": {
     "start_time": "2024-12-23T16:42:43.720287900Z"
    }
   },
   "id": "b2218af44ef99409"
  },
  {
   "cell_type": "markdown",
   "source": [
    "---\n",
    "## Advantages\n",
    "- **Strategic Depth**: Evaluates both immediate and future outcomes of each action using Minimax.\n",
    "- **Resilience**: Includes fallback mechanisms to handle edge cases (e.g., no valid moves).\n",
    "- **Game State Simulation**: Ensures accurate decision-making by simulating and reverting actions.\n",
    "\n",
    "## Limitations\n",
    "- **Time Complexity**: Running Minimax for all actions can be computationally expensive, especially at higher depths.\n",
    "\n",
    "\n",
    "---"
   ],
   "metadata": {
    "collapsed": false
   },
   "id": "de59aac81d59266c"
  },
  {
   "cell_type": "markdown",
   "source": [
    "## Simulation of the action\n",
    "\n",
    "The `apply_move` function simulates the effect of a move or a switch during a battle, considering factors like type advantage, accuracy, and damage calculation.\n",
    "\n",
    "### **Function Breakdown**\n",
    "\n",
    "### Purpose\n",
    "- To execute a move or switch action within a simulated game state.\n",
    "- To evaluate the effects of the action, including status changes and damage dealt.\n",
    "\n",
    "### Key Steps\n",
    "\n",
    "1. **Handling Switches**\n",
    "   - If the move is a switch, the function updates the `active` Pokémon without further calculations.\n",
    "&nbsp;\n",
    "2. **Move Accuracy**\n",
    "   - Simulates whether the move hits, based on its accuracy.\n",
    "   - If the move misses, the function logs the event and exits.\n",
    "&nbsp;\n",
    "3. **Damage Calculation**\n",
    "   - Computes damage inflicted by the move using several factors:\n",
    "     - Base power of the move.\n",
    "     - Type effectiveness between the move and the opponent's Pokémon.\n",
    "     - Levels of the attacker and defender.\n",
    "&nbsp;\n",
    "4. **Logging Results**\n",
    "   - Outputs details about the damage inflicted and the type multiplier for debugging purposes.\n",
    "&nbsp;\n",
    "5. **Applying Status Effects**\n",
    "   - If the move has a status effect (e.g., paralysis or burn), it is applied to the opponent.\n",
    "   - Logs the status change for debugging.\n",
    "\n"
   ],
   "metadata": {
    "collapsed": false
   },
   "id": "4979951c69504264"
  },
  {
   "cell_type": "code",
   "execution_count": null,
   "outputs": [],
   "source": [
    "from showdown.battle_bots.PokeBattle.main import calculate_type_multiplier\n",
    "from showdown.battle_bots.PokeBattle.main import calculate_damage\n",
    "\n",
    "class BattleBot(BattleBot):\n",
    "    def __init__(self, user, opponent):\n",
    "        super().__init__(user, opponent)\n",
    "    \n",
    "    def apply_move(self, move_name: str) -> None:\n",
    "        \"\"\"Apply simulated move or switch considering type advantage\"\"\"\n",
    "        move_part = move_name.split()\n",
    "\n",
    "        if constants.SWITCH_STRING in move_name and len(move_part) > 1:\n",
    "            self.user.active = Pokemon.from_switch_string(move_part[1])\n",
    "            return\n",
    "\n",
    "        # Damage, status effect and stats changes simulation\n",
    "        move = Move(move_name)\n",
    "\n",
    "        # Accuracy based move success rate calculation\n",
    "        if random.randint(1, 100) > move.accuracy:\n",
    "            if self.debug:\n",
    "                print(f\"{self.user.active.name} missed the move {move.name}.\")\n",
    "            return\n",
    "\n",
    "        # Damage calculation considering types\n",
    "        type_multiplier = calculate_type_multiplier(move.type, self.opponent.active.types)\n",
    "\n",
    "        damage = calculate_damage(self.user.active, self.opponent.active, move)\n",
    "        damage *= type_multiplier\n",
    "        damage *= (self.user.active.level / self.opponent.active.level)\n",
    "\n",
    "        self.opponent.active.hp -= math.floor(damage)\n",
    "        print(f\"{move.name} inflicted {damage:.2f} hp of damage to {self.opponent.active.name} with an \"\n",
    "              f\"efficacy multiplier of {type_multiplier}.\") if self.debug else None\n",
    "\n",
    "        # The move has no secondary effects\n",
    "        if move.status is not None:\n",
    "            self.opponent.active.status = move.status\n",
    "            print(f\"{self.opponent.active.name} has been {move.status}!\") if self.debug else None\n",
    "        else:\n",
    "            print(f\"{self.user.active.name} missed the move {move.name}.\") if self.debug else None"
   ],
   "metadata": {
    "collapsed": false,
    "ExecuteTime": {
     "start_time": "2024-12-23T16:42:43.720287900Z"
    }
   },
   "id": "e18c0e3f914aa11a"
  },
  {
   "cell_type": "markdown",
   "source": [
    "---\n",
    "\n",
    "## Advantages\n",
    "- **Comprehensive Simulation**: Covers accuracy, type advantages, and damage scaling based on levels.\n",
    "- **Debugging Support**: Provides detailed logs for tracking actions and their effects.\n",
    "\n",
    "## Limitations\n",
    "- **No Secondary Effects**: The current implementation does not handle secondary effects like stat changes or healing.\n",
    "- **Simplistic Status Application**: Assumes status effects apply directly without additional checks.\n",
    "\n",
    "---"
   ],
   "metadata": {
    "collapsed": false
   },
   "id": "6c56084f96842604"
  },
  {
   "cell_type": "markdown",
   "source": [
    "## Evaluation of the state\n",
    "The `evaluate_state` function assesses the current battle state and assigns a numerical score to indicate the user's advantage or disadvantage. A higher score reflects a more favorable position for the user, while a lower score suggests a disadvantage. \n",
    "\n",
    "### **Function breakdown**\n",
    "\n",
    "### Purpose\n",
    "To evaluate the current battle state based on various factors such as health, level, type advantage, reserves, weather, and status conditions, helping to make informed decisions during battle.\n",
    "\n",
    "### Key Steps\n",
    "1. **Active Pokémon Status**:\n",
    "    - Assigns a large penalty if the user's active Pokémon has fainted.\n",
    "    - Assigns a high reward if the opponent's active Pokémon has fainted.\n",
    "&nbsp;  \n",
    "2. **Health and Level Difference**:\n",
    "    - Scores the difference in percentage HP between the user's and opponent's active Pokémon.\n",
    "    - Adds or subtracts points based on the level difference.\n",
    "&nbsp;  \n",
    "3. **Reserve Pokémon**:\n",
    "    - Rewards having healthy Pokémon in the user's reserves.\n",
    "    - Penalizes the opponent's healthy reserves.\n",
    "&nbsp;  \n",
    "4. **Type Advantage**:\n",
    "    - Rewards having a type advantage and penalizes type disadvantage based on a multiplier.\n",
    "&nbsp;\n",
    "5. **Weather Conditions**:\n",
    "    - Adjusts the score based on how weather impacts the user's and opponent's Pokémon.\n",
    "&nbsp;\n",
    "6. **Status Conditions**:\n",
    "    - Penalizes status conditions on the user's active Pokémon (e.g., paralysis, burn).\n",
    "    - Rewards status conditions on the opponent's active Pokémon.\n",
    "&nbsp;\n",
    "7. **Stat Boosts**:\n",
    "    - Evaluates boosts or reductions in stats, rewarding moderate boosts and penalizing extreme ones or reductions.\n",
    "&nbsp;\n",
    "8. **Healing Move Usage**:\n",
    "    - Penalizes using healing moves unnecessarily (e.g., if the user's HP is already high).\n",
    "&nbsp;\n",
    "9. **Worst-Case Opponent Moves**:\n",
    "    - Considers the most damaging move the opponent could use and adjusts the score accordingly.\n",
    "&nbsp;\n",
    "10. **Random Tie-Breaker**:\n",
    "    - Adds a small random factor to break ties in evaluations.\n",
    "&nbsp;\n",
    "11. Returns a numerical score representing the overall battle state. A positive score indicates an advantage, while a negative score indicates a disadvantage."
   ],
   "metadata": {
    "collapsed": false
   },
   "id": "b5fb21012ed4e0d2"
  },
  {
   "cell_type": "code",
   "execution_count": null,
   "outputs": [],
   "source": [
    "class BattleBot(BattleBot):\n",
    "    def __init__(self, user, opponent):\n",
    "        super().__init__(user, opponent)\n",
    "        \n",
    "    def evaluate_state(self) -> float:\n",
    "        \"\"\"Battle state evaluation\"\"\"\n",
    "        score = 0\n",
    "\n",
    "        # Check if active Pokémon are alive\n",
    "        if not self.user.active.is_alive():\n",
    "            return float('-inf')  # Heavy penalty if user's active Pokémon is fainted\n",
    "        if not self.opponent.active.is_alive():\n",
    "            return float('inf')  # High reward if opponent's active Pokémon is fainted\n",
    "\n",
    "        # 1. Scores by HP difference and level\n",
    "        hp_percent_user = self.user.active.hp / self.user.active.max_hp\n",
    "        hp_percent_opponent = self.opponent.active.hp / self.opponent.active.max_hp\n",
    "        level_diff = self.user.active.level - self.opponent.active.level\n",
    "        score += (hp_percent_user - hp_percent_opponent) * 50\n",
    "        score += level_diff * 5\n",
    "\n",
    "        # 2. Bonus/penalty for alive reserve\n",
    "        user_reserve_score = sum(10 for p in self.user.reserve if p.hp > 0)\n",
    "        opponent_reserve_score = sum(10 for p in self.opponent.reserve if p.hp > 0)\n",
    "        score += user_reserve_score - opponent_reserve_score\n",
    "\n",
    "        # 3. Bonus/penalty for type advantage/disadvantage\n",
    "        type_advantage_multiplier = calculate_type_multiplier(self.user.active.types[0], self.opponent.active.types)\n",
    "        if type_advantage_multiplier > 1:\n",
    "            score += 120 * type_advantage_multiplier  # Bonus for type advantage\n",
    "        elif type_advantage_multiplier < 1 and type_advantage_multiplier != 0:\n",
    "            score -= 100 * (1 / type_advantage_multiplier)  # Penalty for type disadvantage\n",
    "        else:\n",
    "            score -= 150\n",
    "\n",
    "        # 4. Bonus for weather conditions\n",
    "        score += state_eval.weather_condition(self.user.active, self.opponent.active, self.weather)\n",
    "\n",
    "        # 5. Penalty for status conditions\n",
    "        status_penalty = {\n",
    "            constants.PARALYZED: 30,\n",
    "            constants.POISON: 35,\n",
    "            'badly poisoned': 40,\n",
    "            constants.BURN: 25,\n",
    "            constants.SLEEP: 60,\n",
    "            constants.FROZEN: 70,\n",
    "        }\n",
    "        score -= status_penalty.get(self.user.active.status, 0)\n",
    "        score += status_penalty.get(self.opponent.active.status, 0)\n",
    "\n",
    "        # 6. Evaluate user's boost status\n",
    "        for boost, value in self.user.active.boosts.items():\n",
    "            if value < 0:\n",
    "                score -= 20\n",
    "            elif 0 < value <= 4:\n",
    "                score += 30\n",
    "            elif value > 4:\n",
    "                score -= 10\n",
    "\n",
    "        # 7. Evaluate user's boost status\n",
    "        status_move = [move for move in self.user.active.moves if\n",
    "                       \"heal\" in all_moves.get(move.name.lower(), {}).get(\"flags\", {})]\n",
    "        if status_move and hp_percent_user >= 0.85:\n",
    "            score -= 120\n",
    "\n",
    "        # 8. Integrate worst-case opponent move analysis\n",
    "        opponent_moves = self.opponent.active.moves\n",
    "        if opponent_moves:\n",
    "            worst_opponent_score = min(\n",
    "                self.evaluate_move_risk(move, self.user.active) for move in opponent_moves\n",
    "            )\n",
    "            score += worst_opponent_score  # Adjust score with worst-case scenario\n",
    "\n",
    "        # 9. Random factor for tie-breaking decisions\n",
    "        score += random.uniform(-1, 1)\n",
    "\n",
    "        return score"
   ],
   "metadata": {
    "collapsed": false,
    "ExecuteTime": {
     "start_time": "2024-12-23T16:42:43.720287900Z"
    }
   },
   "id": "1af56d8acf89857d"
  },
  {
   "cell_type": "markdown",
   "source": [
    "---\n",
    "\n",
    "## Advantages\n",
    "- **Comprehensive Evaluation**: The function considers a wide range of factors, including HP, levels, type advantages, weather, and status effects, providing a nuanced assessment of the battle state.\n",
    "- **Opponent Move Risk Analysis**: It accounts for worst-case opponent moves, ensuring defensive awareness and improving the reliability of its state evaluation.\n",
    "## Limitations\n",
    "- **High Computational Complexity**: Evaluating multiple factors, especially worst-case opponent moves, can be computationally intensive, leading to slower decision-making.\n",
    "- **Static Weighting Issues**: Some factors, like type effectiveness or status penalties, are given fixed weights that may not reflect their situational importance, potentially skewing the evaluation.\n",
    "\n",
    "---"
   ],
   "metadata": {
    "collapsed": false
   },
   "id": "52d093c409c5ee4d"
  },
  {
   "cell_type": "markdown",
   "source": [
    "## Best Pokémon Selection\n",
    "The `find_best_switch` function identifies the best Pokémon from the user's team to switch into battle based on their resistance to the opponent's active Pokémon's types and the strength of their moves.\n",
    "\n",
    "### **Function breakdown**\n",
    "\n",
    "### Purpose\n",
    "To find the optimal Pokémon to switch into the battle based on a combination of type resistance and move effectiveness.\n",
    "\n",
    "### Key Steps\n",
    "1. Iterates through all the user's available Pokémon switches.\n",
    "2. For each Pokémon, calculates a resistance score based on its types and the opponent's Pokémon's types using a type-effectiveness table.\n",
    "3. Keeps track of Pokémon with the highest resistance score. If multiple Pokémon have the same score, they are considered as candidates for the best switch.\n",
    "4. Among the candidates, evaluates their potential move scores with the `pokemon_score_moves` function and selects the one with the highest move score.\n",
    "5. Returns the best Pokémon to switch in. If no suitable Pokémon is found, it returns None. \n",
    "\n",
    "### Error Handling\n",
    "Ensures Pokémon exist in the team before evaluation and handles cases where no suitable candidates are found.\n"
   ],
   "metadata": {
    "collapsed": false
   },
   "id": "97abbfbd122582d0"
  },
  {
   "cell_type": "code",
   "execution_count": null,
   "outputs": [],
   "source": [
    "class BattleBot(BattleBot):\n",
    "    def __init__(self, user, opponent):\n",
    "        super().__init__(user, opponent)\n",
    "        \n",
    "    def find_best_switch(self) -> Pokemon | None:\n",
    "        # Find the best Pokémon in the team to make the switch.\n",
    "        best_pokemon = None\n",
    "        max_score = float('-inf')\n",
    "        best_move_score = float('-inf')\n",
    "        best_pokemon_candidates = []\n",
    "\n",
    "        opponent_types = self.opponent.active.types\n",
    "\n",
    "        for switch in self.user.get_switches():\n",
    "            pokemon_to_switch = switch\n",
    "\n",
    "            if pokemon_to_switch is None:\n",
    "                if self.debug:\n",
    "                    print(f\"Error: Pokémon {switch} not found in the user's reserve.\")\n",
    "                    continue\n",
    "\n",
    "            # Evaluate the resistance of the reserve Pokémon against the opponent's type\n",
    "            resistance = 0\n",
    "            resistance += sum(constants.TYPE_EFFECTIVENESS.get(switch_type, {}).get(opponent_type, 1)\n",
    "                              for opponent_type in opponent_types\n",
    "                              for switch_type in pokemon_to_switch.types)\n",
    "\n",
    "            # Combine resistance and move score for overall evaluation\n",
    "            total_move_score = resistance\n",
    "\n",
    "            if total_move_score > max_score:\n",
    "                max_score = total_move_score\n",
    "                best_pokemon_candidates = [pokemon_to_switch]  # Reset the list of best candidates\n",
    "            elif total_move_score == max_score:\n",
    "                best_pokemon_candidates.append(pokemon_to_switch)  # Add to the list of best candidates\n",
    "\n",
    "        # Choose the best Pokémon from the candidates\n",
    "        if best_pokemon_candidates:\n",
    "            # if we have more than one candidate choose a heuristic to select the best Pokémon\n",
    "            # we choose the Pokémon with the best move\n",
    "            for pokemon in best_pokemon_candidates:\n",
    "\n",
    "                # Calculate the move score\n",
    "                move_score = self.pokemon_score_moves(pokemon_to_switch.name)\n",
    "\n",
    "                if move_score > best_move_score:\n",
    "                    best_move_score = move_score\n",
    "                    best_pokemon = pokemon\n",
    "            # if self.debug:\n",
    "            print(f\"Best switch: {best_pokemon.name} with a total score of {max_score}\") if self.debug else None\n",
    "        elif self.debug:\n",
    "            print(\"No suitable Pokémon found.\") if self.debug else None"
   ],
   "metadata": {
    "collapsed": false,
    "ExecuteTime": {
     "start_time": "2024-12-23T16:42:43.720287900Z"
    }
   },
   "id": "e6951f4d1f8f7eca"
  },
  {
   "cell_type": "markdown",
   "source": [
    "## Evaluation of Pokémon Moves\n",
    "The `pokemon_score_moves` function evaluates the effectiveness of a Pokémon's moves and returns a score that reflects the quality of its best move.\n",
    "\n",
    "### **Function breakdown**\n",
    "\n",
    "### Purpose\n",
    "To assess the strength of a Pokémon's moves, accounting for move power and accuracy, and return a score for the best move.\n",
    "\n",
    "### Key Steps\n",
    "1. Retrieves the Pokémon object by its name.\n",
    "2. Iterates through the Pokémon's available moves.\n",
    "3. For each move:\n",
    "    - Evaluates its base effectiveness using the `evaluate_move` method.\n",
    "    - Adjusts the move's score based on its accuracy.\n",
    "4. Tracks the highest move score during iteration.\n",
    "5. Returns the total score of the best move for the Pokémon.\n",
    "\n",
    "### Error Handling\n",
    "If the Pokémon cannot be found, prints an error message and returns a score of 0.\n"
   ],
   "metadata": {
    "collapsed": false
   },
   "id": "886ebc3da7d8dd8c"
  },
  {
   "cell_type": "code",
   "execution_count": null,
   "outputs": [],
   "source": [
    "class BattleBot(BattleBot):\n",
    "    def __init__(self, user, opponent):\n",
    "        super().__init__(user, opponent)\n",
    "        \n",
    "    def pokemon_score_moves(self, pokemon_name: str) -> float:\n",
    "        \"\"\"Find if the moves of the Pokémon are good or not\"\"\"\n",
    "        pokemon = self.get_pokemon_by_name(pokemon_name)  # Get Pokémon object from the name\n",
    "        max_score = float('-inf')\n",
    "\n",
    "        if pokemon is None:\n",
    "            print(f\"Error: Pokémon {pokemon_name} not found.\")\n",
    "            return 0\n",
    "\n",
    "        total_score = 0\n",
    "\n",
    "        for move in pokemon.moves:\n",
    "            move_score = self.evaluate_move(move)\n",
    "            accuracy_multiplier = move.accuracy / 100 if isinstance(move.accuracy,\n",
    "                                                                    int) else 1  # Assuming accuracy is between 0 and\n",
    "            # 100 (adjust the move score based on the accuracy of the move)\n",
    "            total_score = move_score * accuracy_multiplier\n",
    "\n",
    "            if total_score > max_score:\n",
    "                max_score = total_score\n",
    "\n",
    "        print(f\"Total score for {pokemon_name}: {total_score}\") if self.debug else None\n",
    "\n",
    "        return total_score"
   ],
   "metadata": {
    "collapsed": false,
    "ExecuteTime": {
     "start_time": "2024-12-23T16:42:43.720287900Z"
    }
   },
   "id": "65841fa0c9dfd0a0"
  },
  {
   "cell_type": "markdown",
   "source": [
    "---\n",
    "\n",
    "## Advantages\n",
    "- **Strategic Decision-Making**: Incorporates the quality of a Pokémon's moves as a secondary heuristic to ensure that the selected Pokémon is not only defensive but also offensively viable.\n",
    "- **Move Evaluation**: Considers both move effectiveness (via evaluate_move) and accuracy, offering a realistic assessment of each move's reliability.\n",
    "\n",
    "## Limitations\n",
    "- **Limited Context Awareness**: The function doesn't account for battle-specific conditions like weather, stat boosts, or status effects, which can heavily influence optimal switches.\n",
    "- **Candidate Refinement**: During the candidate refinement phase in find_best_switch, the pokemon_score_moves function is called for each candidate Pokémon. If multiple candidates have identical resistance scores, this could lead to redundant evaluations.\n",
    "\n",
    "---"
   ],
   "metadata": {
    "collapsed": false
   },
   "id": "d169644bc4feec6d"
  },
  {
   "cell_type": "markdown",
   "source": [
    "## Move Evaluation\n",
    "The `evaluate_move` function evaluates the effectiveness of a Pokémon move in a battle scenario. It calculates the potential damage a move can inflict on the opponent's Pokémon by considering several factors such as type effectiveness, the Pokémon's level, and the specific move used."
   ],
   "metadata": {
    "collapsed": false
   },
   "id": "c7d24d574ae18fe4"
  },
  {
   "cell_type": "code",
   "execution_count": null,
   "outputs": [],
   "source": [
    "class BattleBot(BattleBot):\n",
    "    def __init__(self, user, opponent):\n",
    "        super().__init__(user, opponent)\n",
    "\n",
    "    def evaluate_move(self, move_name: str) -> float:\n",
    "        \"\"\"Evaluate the move based on the type effectiveness against the opponent's Pokémon.\"\"\"\n",
    "        if isinstance(move_name, Move):            \n",
    "            move_name = move_name.name  # Usa il nome se è un oggetto Move\n",
    "\n",
    "\n",
    "        move = Move(move_name)  # Create an instance of Move using the move name as a string\n",
    "        if not move:\n",
    "            print(f\"Error: Move {move_name} not found.\") if self.debug else None\n",
    "            return 0\n",
    "\n",
    "        # Calculate the type multiplier\n",
    "        type_multiplier = calculate_type_multiplier(move.type, self.opponent.active.types)\n",
    "        # Calculate the potential damage inflicted\n",
    "        damage = calculate_damage(self.user.active, self.opponent.active, move) * type_multiplier\n",
    "\n",
    "        # Consider the opponent's Pokémon level\n",
    "        damage *= (self.user.active.level / self.opponent.active.level)\n",
    "\n",
    "        print(f\"Move {move.name} inflicts {damage:.2f} damage to {self.opponent.active.name}.\") if self.debug else None\n",
    "        return damage"
   ],
   "metadata": {
    "collapsed": false,
    "ExecuteTime": {
     "start_time": "2024-12-23T16:42:43.720287900Z"
    }
   },
   "id": "cf614af8a33aeaf4"
  },
  {
   "cell_type": "markdown",
   "source": [
    "## Minimax algorithm\n",
    "The provided code implements a Minimax algorithm with Alpha-Beta pruning for decision-making in a Pokémon battle simulator. This algorithm enables the bot to determine the best possible move by simulating and evaluating all possible outcomes of a game tree up to a specified depth.\n",
    "\n",
    "### **Function Breakdown**\n",
    "\n",
    "#### **Minimax**\n",
    "The `minimax` function is the main entry point for the Minimax algorithm. It evaluates the game state recursively to determine the optimal action for the bot.\n",
    "#### *Logic*:\n",
    "If a terminal state is reached (e.g., no further moves or maximum depth reached), it evaluates the current state using `evaluate_state` and returns the score.\n",
    "Otherwise, it begins the recursive evaluation by calling the maximizing function `max_eval`.\n",
    "\n",
    "#### **Max eval**\n",
    "The `max_eval` function represents the \"maximizing\" player's (bot's) turn. It tries to maximize the bot's evaluation score by selecting the most favorable move.\n",
    "#### *Logic*:\n",
    "Checks for terminal states or maximum depth, evaluating the game state if true.\n",
    "Separates potential moves into \"moves\" (actions taken by the active Pokémon) and \"switches\" (changing the active Pokémon).\n",
    "Sorts moves based on their evaluation score and appends the best switch, if available.\n",
    "Simulates each move:\n",
    "Saves the current state (deepcopy).\n",
    "Applies the move and recursively calls the minimizing function `min_eval` for the opponent's turn.\n",
    "Restores the state after simulation.\n",
    "Updates alpha with the highest evaluation score.\n",
    "Prunes unnecessary branches if the evaluation exceeds beta.\n",
    "\n",
    "#### **Min eval**\n",
    "The `min_eval` function represents the \"minimizing\" player's (opponent's) turn. It tries to minimize the bot's evaluation score by selecting the most detrimental move for the bot.\n",
    "#### *Logic*:\n",
    "Similar to `max_eval`, but it focuses on minimizing the evaluation score.\n",
    "Iterates through the opponent's possible moves, simulating each move and calling `max_eval` recursively for the bot's next turn.\n",
    "Updates beta with the lowest evaluation score.\n",
    "Prunes unnecessary branches if the evaluation is less than or equal to alpha.\n",
    "\n",
    "### **Key Features:**\n",
    "- *Alpha-Beta Pruning*: Optimizes the Minimax algorithm by avoiding the evaluation of branches that are guaranteed to be suboptimal. This reduces the computational cost.\n",
    "- *Recursive State Evaluation*: Alternates between maximizing and minimizing turns, simulating potential moves for both the bot and its opponent.\n",
    "- *Move Sorting*: The bot prioritizes moves based on their evaluation scores, improving the efficiency of the algorithm.\n",
    "- *State Management*: Uses deepcopy to save and restore the battle state during simulations, ensuring that no permanent changes affect subsequent evaluations.\n"
   ],
   "metadata": {
    "collapsed": false
   },
   "id": "b0f14d7b99fcce71"
  },
  {
   "cell_type": "code",
   "execution_count": null,
   "outputs": [],
   "source": [
    "class BattleBot(BattleBot):\n",
    "    def __init__(self, user, opponent):\n",
    "        super().__init__(user, opponent)\n",
    "\n",
    "    def minimax(self, alpha: float, beta: float, max_depth: int = MAX_DEPTH) -> float:\n",
    "        \"\"\"Minimax algorithm with Alpha-Beta cutting-out.\"\"\"\n",
    "\n",
    "        if self.is_terminal(max_depth):\n",
    "            score = self.evaluate_state()\n",
    "            print(f\"Terminal state reached. Evaluation score: {score}\") if self.debug else None\n",
    "            return score\n",
    "\n",
    "        return self.max_eval(alpha, beta, max_depth)\n",
    "\n",
    "    def max_eval(self, alpha: float, beta: float, max_depth: int) -> float:\n",
    "        max_eval = float('-inf')\n",
    "        user_options = self.user.active.moves\n",
    "\n",
    "        if self.is_terminal(max_depth):\n",
    "            score = self.evaluate_state()\n",
    "            print(f\"Terminal state reached. Evaluation score: {score}\") if self.debug else None\n",
    "            return score\n",
    "\n",
    "        # Separate moves from switches\n",
    "        moves = [move for move in user_options if not move.name.startswith(constants.SWITCH_STRING)]\n",
    "\n",
    "        # Sort moves by importance\n",
    "        moves.sort(key=lambda move: self.evaluate_move(move), reverse=True)\n",
    "        switch = self.find_best_switch()\n",
    "        if switch:\n",
    "            moves.append(f\"{constants.SWITCH_STRING} {switch.name}\")\n",
    "\n",
    "        # Evaluate moves\n",
    "        for move in moves:\n",
    "            saved_state = deepcopy(self)  # Save the battle state before simulating the move\n",
    "\n",
    "            self.apply_move(move.name)\n",
    "            eval = self.min_eval(alpha, beta, max_depth - 1)\n",
    "            self.restore_state(saved_state)  # Restore the battle state\n",
    "\n",
    "            if eval > max_eval:\n",
    "                max_eval = eval\n",
    "                alpha = max(alpha, eval)\n",
    "\n",
    "            if max_eval >= beta:\n",
    "                return max_eval  # Alpha-Beta pruning\n",
    "\n",
    "        return max_eval\n",
    "\n",
    "    def min_eval(self, alpha: float, beta: float, max_depth: int) -> float | int:\n",
    "        min_eval = float('inf')\n",
    "        opponent_options = self.opponent.active.moves\n",
    "\n",
    "        if self.is_terminal(max_depth):\n",
    "            score = self.evaluate_state()\n",
    "            print(f\"Terminal state reached. Evaluation score: {score}\") if self.debug else None\n",
    "            return score\n",
    "\n",
    "        for move in opponent_options:\n",
    "            saved_state = deepcopy(self)  # Save battle state before moving\n",
    "\n",
    "            self.apply_move(move.name)\n",
    "            eval = self.max_eval(alpha, beta, max_depth - 1)  # Bot turn, maximizing\n",
    "            self.restore_state(saved_state)\n",
    "\n",
    "            if eval < min_eval:\n",
    "                min_eval = eval\n",
    "                beta = min(beta, eval)\n",
    "\n",
    "            if min_eval <= alpha:\n",
    "                return min_eval\n",
    "\n",
    "        return min_eval"
   ],
   "metadata": {
    "collapsed": false,
    "ExecuteTime": {
     "start_time": "2024-12-23T16:42:43.720287900Z"
    }
   },
   "id": "e1e44e0c0e2f064f"
  },
  {
   "cell_type": "markdown",
   "source": [
    "---\n",
    "\n",
    "## Advantages\n",
    "- **Optimized Decision-Making:** Alpha-Beta pruning ensures efficient evaluation by reducing the number of game states explored.\n",
    "- **Strategic Depth:** By simulating multiple turns, the bot anticipates both its own and the opponent’s actions.\n",
    "- **Dynamic Adaptation:** Incorporates move evaluation and switching strategies for more realistic gameplay.\n",
    "\n",
    "## Limitations\n",
    "- **Computational Cost:** Despite pruning, the algorithm can still be slow for large game trees or high max_depth.\n",
    "- **Heuristic Dependency:** The effectiveness depends on the accuracy of the `evaluate_state` and `evaluate_move` heuristics. Inaccurate evaluations can lead to suboptimal decisions.\n",
    "\n",
    "---"
   ],
   "metadata": {
    "collapsed": false
   },
   "id": "3b54ba8342b15bb2"
  },
  {
   "cell_type": "markdown",
   "source": [
    "## Timer management\n",
    "\n",
    "One of the primary challenges we faced was managing Pokémon Showdown's 150-second timer. At times, the bot would lose battles because computationally expensive decision-making processes caused it to exceed the time limit. As a result, we had to implement strategies to effectively handle the timer and ensure the bot could make decisions within the allocated time.\n",
    "\n",
    "The `adjust_time` function dynamically adjusts the timer for a Pokémon battle based on the elapsed time of the current turn.\n",
    "\n",
    "#### **Key Insights**:\n",
    "- The function enforces a minimum timer value to ensure the game progresses.\n",
    "- It penalizes longer turns to encourage quicker decision-making.\n",
    "- The logic accommodates different levels of elapsed time, dynamically adjusting the timer based on the player's responsiveness."
   ],
   "metadata": {
    "collapsed": false
   },
   "id": "4135a9e30039c5f"
  },
  {
   "cell_type": "code",
   "execution_count": null,
   "outputs": [],
   "source": [
    "def adjust_time(elapsed: int, limit: int) -> int:\n",
    "    \"\"\"Returns the new upper limit for the timer\"\"\"\n",
    "    if elapsed >= 120:\n",
    "        # the agent is categorized as inactive and the timer is the lowest possible\n",
    "        return 30\n",
    "\n",
    "    if elapsed >= 60:\n",
    "        # the lowest timer Pokémon showdown allows is 30s\n",
    "        if limit <= 30:\n",
    "            return 30\n",
    "        # every turn that takes more than a minute sets the limit to a minute less than the original timer\n",
    "        return limit - 60\n",
    "    # each turn that takes more than 30s sets the timer to 30s less than the original timer\n",
    "    if elapsed >= 30:\n",
    "        return limit - 30\n",
    "\n",
    "    # in general the timer continues unless is 0 or less\n",
    "    new_timer = limit - elapsed\n",
    "    return new_timer if new_timer > 0 else 30"
   ],
   "metadata": {
    "collapsed": false,
    "ExecuteTime": {
     "start_time": "2024-12-23T16:42:43.720287900Z"
    }
   },
   "id": "46b84025244354d4"
  },
  {
   "cell_type": "markdown",
   "source": [
    "The `is_terminal` function determines whether the game has reached a terminal state, which indicates that further computation for the current move is unnecessary. It checks the following conditions:\n",
    "\n",
    "- Time Limit Exceeded: If the battle timer has expired (as determined by the `is_time_over` function), the game is considered in a terminal state. \n",
    "- Depth Limit Reached: If the recursion depth (max_depth) has reached zero, the function treats it as a terminal state to prevent further exploration.\n",
    "- Game Over: If the game has ended, it is also considered terminal."
   ],
   "metadata": {
    "collapsed": false
   },
   "id": "787d1a1121544b00"
  },
  {
   "cell_type": "code",
   "execution_count": null,
   "outputs": [],
   "source": [
    "class BattleBot(BattleBot):\n",
    "    def __init__(self, user, opponent):\n",
    "        super().__init__(user, opponent)\n",
    "\n",
    "    def is_terminal(self, max_depth: int) -> bool:\n",
    "        \"\"\"Checks wether or not the game is in a terminal state\"\"\"\n",
    "        if self.is_time_over():\n",
    "            print(\"Time expired, returning best found move\") if self.debug else None\n",
    "            return True\n",
    "\n",
    "        # End conditions: max-depth reached or match ended\n",
    "        if max_depth == 0 or utility.game_over(self.user, self.opponent):\n",
    "            return True\n",
    "\n",
    "        return False"
   ],
   "metadata": {
    "collapsed": false,
    "ExecuteTime": {
     "start_time": "2024-12-23T16:42:43.733300Z"
    }
   },
   "id": "b1ea3f59c7961d59"
  },
  {
   "cell_type": "markdown",
   "source": [
    "The `is_time_over` function checks whether the allotted time for a move has elapsed, signaling that the bot should stop its computations. It works as follows:\n",
    "\n",
    "- Initialize Remaining Time: If the remaining time has not been set, it is initialized to a default value of 150 seconds.\n",
    "- Calculate Effective Timer: Adjust the timer by subtracting a predefined tolerance (TIME_TOLLERANCE) to account for processing overhead.\n",
    "- Measure Elapsed Time: Compute the time elapsed since the move computation started.\n",
    "- Compare Timer: If the elapsed time exceeds the effective timer, the function returns True, indicating that the bot has run out of time. Otherwise, it returns False."
   ],
   "metadata": {
    "collapsed": false
   },
   "id": "5ad37df7dcf0850"
  },
  {
   "cell_type": "code",
   "execution_count": null,
   "outputs": [],
   "source": [
    "class BattleBot(BattleBot):\n",
    "    def __init__(self, user, opponent):\n",
    "        super().__init__(user, opponent)\n",
    "    \n",
    "    def is_time_over(self) -> bool:\n",
    "        \"\"\"Checks if timer of a battle is over\"\"\"\n",
    "        if self.time_remaining is None:\n",
    "            self.time_remaining = 150\n",
    "\n",
    "        effective_timer = self.time_remaining - TIME_TOLLERANCE\n",
    "        elapsed_time = time.time() - self.start_time\n",
    "\n",
    "        print(f\"Elapsed time: {elapsed_time:.0f}s, Timer at: {effective_timer:.0f}s\") if self.debug else None\n",
    "\n",
    "        return elapsed_time > effective_timer"
   ],
   "metadata": {
    "collapsed": false,
    "ExecuteTime": {
     "start_time": "2024-12-23T16:42:43.733300Z"
    }
   },
   "id": "8fcd4e12f2ab225f"
  },
  {
   "cell_type": "markdown",
   "source": [
    "# Simulation with genetic algorithm\n",
    "\n",
    "In this section, a brief simulation of a battle is carried out, considering two teams, each consisting of two Pokémon, with each Pokémon having two moves. To demonstrate how the bot makes its decisions, we simply call the `find_best_move` function, passing it the user's options (the available moves for the active Pokémon) and the possible switches (the Pokémon that can be switched in).\n",
    "\n",
    "We also need to define some functions and the classes Move, Pokemon and BattleBot."
   ],
   "metadata": {
    "collapsed": false
   },
   "id": "51b282b73f8463be"
  },
  {
   "cell_type": "markdown",
   "source": [
    "The `normalize_name` function processes a string to produce a normalized version, removing special characters and ensuring consistent formatting. \n",
    "\n",
    "The `common_pkmn_stat_calc` function calculates a common Pokémon stat (such as Attack, Defense, Speed).\n",
    "\n",
    "The `calculate_stats` function is designed to calculate all six stats (HP, Attack, Defense, Special Attack, Special Defense, Speed) for a Pokémon."
   ],
   "metadata": {
    "collapsed": false
   },
   "id": "b7e167f2dff12da3"
  },
  {
   "cell_type": "markdown",
   "source": [
    "This code snippet is a simulation of decision-making in a Pokémon battle, where a \"BattleBot\" selects the optimal move or switch during a turn. It combines static Pokémon objects, predefined moves, and decision-making logic to demonstrate the bot's capabilities.\n",
    "\n",
    "#### **Key Components**\n",
    "- Move and Pokémon Objects: Four moves are statically created and four Pokémon objects are instantiated, each with a unique set of moves.\n",
    "- Decision Functions: \n",
    "    - `get_user_options`: Extracts the names of available moves for the given Pokémon.\n",
    "    - `get_switches`: Identifies Pokémon from the player's team that can be switched into battle, excluding the currently active Pokémon.\n",
    "- BattleBot Setup: A BattleBot is instantiated to represent the player in the battle:\n",
    "    - user: The player's team, including the active Pokémon and a reserve Pokémon.\n",
    "    - opponent: The opposing team, with the active Pokémon and a reserve Pokémon.\n",
    "- Simulated Decision Process: The bot evaluates the available moves for the active Pokémon using `get_user_options`. It determines possible switches using `get_switches`.\n",
    "\n",
    "Using these inputs, the bot calculates the best move for the current situation by calling `find_best_move`."
   ],
   "metadata": {
    "collapsed": false
   },
   "id": "539f070500777d96"
  },
  {
   "cell_type": "code",
   "execution_count": null,
   "outputs": [],
   "source": [
    "class Battler(Battler):\n",
    "    def __init__(self, user_dict: dict):\n",
    "        super().__init__(user_dict)\n",
    "\n",
    "    # Function to generate available moves for a given Pokémon\n",
    "    def get_user_options(pokemon: Pokemon) -> List[str]:\n",
    "        return [move.name for move in pokemon.moves]            # Extract the names of moves from the Pokémon's move list\n",
    "\n",
    "    # Function to generate possible switches based on other Pokémon\n",
    "    def get_switches(self) -> List[Pokemon]:\n",
    "        return [pkmn for pkmn in self.reserve if pkmn.is_alive()]    # Return all active Pokémon except the current one"
   ],
   "metadata": {
    "collapsed": false,
    "ExecuteTime": {
     "start_time": "2024-12-23T16:42:43.733300Z"
    }
   },
   "id": "884e0be11c4ac8fa"
  },
  {
   "cell_type": "code",
   "execution_count": null,
   "outputs": [],
   "source": [
    "# Example static Pokémon moves\n",
    "move1 = Move(\"Thunderbolt\")\n",
    "move2 = Move(\"Quick Attack\")\n",
    "move3 = Move(\"Flamethrower\")\n",
    "move4 = Move(\"Air Slash\")\n",
    "\n",
    "# Create static Pokémon objects\n",
    "pokemon1 = Pokemon(\"Pikachu\", [move1, move2])\n",
    "pokemon2 = Pokemon(\"Charizard\", [move3, move4])\n",
    "pokemon3 = Pokemon(\"Bulbasaur\", [move1, move3])\n",
    "pokemon4 = Pokemon(\"Squirtle\", [move2, move4])\n",
    "\n",
    "# Create a BattleBot instance\n",
    "user = Battler({\"active\": pokemon1, \"reserve\": [pokemon3]})\n",
    "opponent = Battler({\"active\": pokemon2, \"reserve\": [pokemon4]})\n",
    "bot = BattleBot(user, opponent)\n",
    "\n",
    "# Example list of all Pokémon in the team\n",
    "all_pokemon = [pokemon1, pokemon3]\n",
    "\n",
    "user_options = get_user_options(pokemon1)               # Generate the user options (available moves for the active Pokémon)\n",
    "switches = get_switches(bot.user)          # Generate possible switches (Pokémon that can be switched in)\n",
    "\n",
    "# Print the generated user options and switches\n",
    "print(\"User Options (Available Moves):\", user_options)\n",
    "print(\"Switches (Possible Pokémon to switch in):\", [pokemon.name for pokemon in switches])\n",
    "\n",
    "# Get the best move\n",
    "best_move = bot.find_best_move(user_options, switches)\n",
    "print(\"Best Move:\", best_move)"
   ],
   "metadata": {
    "collapsed": false,
    "ExecuteTime": {
     "start_time": "2024-12-23T16:42:43.733300Z"
    }
   },
   "id": "18f8593dc7b5a756"
  },
  {
   "cell_type": "markdown",
   "source": [
    "---\n",
    "# Assessment\n",
    "\n",
    "Insert description of the hyperparameter like max depth and final value used after the genetic algorithm.\n",
    "\n",
    "\n",
    "These are the preliminary results that were already presented during the in-class presentation. The results are divided by the generation of Pokémon used to generate the random team.\n",
    "\n",
    "In Pokémon Showdown, player performance is evaluated using **five key metrics**: **Elo**, **GXE**, **Glicko-1**, **W (Wins)**, and **L (Losses)**. Each metric provides insight into a player's skill, consistency, and match outcomes.\n",
    "\n",
    "\n",
    "##  **1. Elo Rating**\n",
    "\n",
    "- **Definition:** The primary rating system used to assess a player's skill level.\n",
    "- **Mechanism:** Your Elo rating **increases with wins** and **decreases with losses**.\n",
    "- **Starting Point:** Every player starts with a base rating of **1000**.\n",
    "- **K-Factor Scaling:** Determines how much the rating changes after a match:\n",
    "   - **1100–1299:** K = 50  \n",
    "   - **1300–1599:** K = 40  \n",
    "   - **1600 and above:** K = 32  \n",
    "- **Rating Floor:** The minimum rating is capped at **1000**.\n",
    "- **Rating Decay:** Players with a rating above **1400** experience **daily rating decay** if they play fewer than **5 games per day**.\n",
    "\n",
    ">  *Higher Elo signifies better performance on the ladder.*\n",
    "\n",
    "\n",
    "##  **2. GXE (Glicko X-Act Estimate)**\n",
    "\n",
    "- **Definition:** An estimate of the **probability of winning** against an average ladder opponent.\n",
    "- **Interpretation:** A **higher GXE** means a higher chance of winning.\n",
    "   - Example: A GXE of **75%** indicates a **75% chance of victory** against a standard opponent.\n",
    "- **Calculation:** Derived from the **Glicko rating system**, factoring in both rating and rating deviation.\n",
    "\n",
    ">  *GXE provides a quick understanding of your expected performance in matches.*\n",
    "\n",
    "\n",
    "##  **3. Glicko-1 Rating**\n",
    "\n",
    "- **Definition:** A rating system that evaluates skill along with **uncertainty** (rating deviation).\n",
    "- **Components:**\n",
    "   - **Rating (R):** Represents player skill (starts at **1500**).\n",
    "   - **Rating Deviation (RD):** Reflects confidence in the rating. A **lower RD** indicates higher confidence.\n",
    "- **Mechanism:** Updated daily based on match outcomes.\n",
    "- **Interpretation:**\n",
    "   - A **high rating** with a **low RD** means a strong and reliable performance.\n",
    "   - A **high RD** suggests that more matches are needed for an accurate assessment.\n",
    "\n",
    ">  *Glicko-1 offers both a rating and a confidence measure in player performance.*\n",
    "\n",
    "\n",
    "##  **4. W (Wins)**\n",
    "\n",
    "- **Definition:** The **total number of matches won** by the player.\n",
    "- **Significance:** A higher number of wins indicates **experience** and **successful gameplay**.\n",
    "- **Context:** Wins directly contribute to **improving Elo and GXE scores**.\n",
    "\n",
    ">  *Wins are essential for climbing the ladder and maintaining high ratings.*\n",
    "\n",
    "\n",
    "##  **5. L (Losses)**\n",
    "\n",
    "- **Definition:** The **total number of matches lost** by the player.\n",
    "- **Significance:** A higher number of losses might indicate **inconsistency** or **areas for improvement**.\n",
    "- **Context:** Consecutive losses can significantly **reduce Elo and GXE scores**.\n",
    "\n",
    ">  *Analyzing losses can help identify patterns and improve strategies.*\n",
    "\n",
    "\n",
    "##  **6. Summary Table**\n",
    "\n",
    "| **Parameter** | **Meaning** | **Key Insight** |\n",
    "|--------------|-------------|---------------|\n",
    "| **Elo**      | Skill Rating | Overall skill level of the player |\n",
    "| **GXE**      | Win Probability | Estimated chance of winning a match |\n",
    "| **Glicko-1** | Rating + Deviation | Skill and reliability of the rating |\n",
    "| **W (Wins)** | Match Victories | Total number of matches won |\n",
    "| **L (Losses)** | Match Defeats | Total number of matches lost |\n",
    "\n"
   ],
   "metadata": {
    "collapsed": false
   },
   "id": "cdeb35e7684efe99"
  },
  {
   "cell_type": "code",
   "execution_count": 28,
   "outputs": [
    {
     "data": {
      "text/plain": "<Figure size 1400x600 with 2 Axes>",
      "image/png": "[encoded data removed]"
     },
     "metadata": {},
     "output_type": "display_data"
    },
    {
     "data": {
      "text/plain": "<Figure size 1200x600 with 1 Axes>",
      "image/png": "[encoded data removed]"
     },
     "metadata": {},
     "output_type": "display_data"
    }
   ],
   "source": [
    "import matplotlib.pyplot as plt\n",
    "import numpy as np\n",
    "\n",
    "# Data from the image\n",
    "data = {\n",
    "    'Generation': ['gen6randombattle', 'gen7randombattle'],\n",
    "    'Elo': [1011, 1132],\n",
    "    'GXE': [24.3, 24.5],\n",
    "    'Glicko-1': [1286, 1288],\n",
    "    'W': [22, 72],\n",
    "    'L': [37, 112]\n",
    "}\n",
    "\n",
    "# Pie Charts for Wins and Losses\n",
    "fig, axs = plt.subplots(1, 2, figsize=(14, 6))\n",
    "\n",
    "# Colors for Pie Charts\n",
    "colors_gen6 = ['#FFDE00', '#3B4CCA']\n",
    "colors_gen7 = ['#FFDE00', '#3B4CCA']\n",
    "\n",
    "# Generation 6\n",
    "axs[0].pie(\n",
    "    [data['W'][0], data['L'][0]],\n",
    "    labels=['W', 'L'],\n",
    "    autopct='%1.1f%%',\n",
    "    startangle=140,\n",
    "    colors=colors_gen6\n",
    ")\n",
    "axs[0].set_title('gen6randombattle: Wins vs Losses')\n",
    "\n",
    "# Generation 7\n",
    "axs[1].pie(\n",
    "    [data['W'][1], data['L'][1]],\n",
    "    labels=['W', 'L'],\n",
    "    autopct='%1.1f%%',\n",
    "    startangle=140,\n",
    "    colors=colors_gen7\n",
    ")\n",
    "axs[1].set_title('gen7randombattle: Wins vs Losses')\n",
    "\n",
    "plt.tight_layout()\n",
    "plt.show()\n",
    "\n",
    "# Bar Chart for Elo, GXE, and Glicko-1\n",
    "x = np.arange(len(data['Generation']))\n",
    "width = 0.25\n",
    "\n",
    "fig, ax = plt.subplots(figsize=(12, 6))\n",
    "\n",
    "# Colors for Bar Chart\n",
    "colors_elo = '#FF0000'\n",
    "colors_gxe = '#3B4CCA'\n",
    "colors_glicko = '#FFDE00'\n",
    "\n",
    "# Plot bars with specific colors\n",
    "rects1 = ax.bar(x - width, data['Elo'], width, label='Elo', color=colors_elo)\n",
    "rects2 = ax.bar(x, data['GXE'], width, label='GXE', color=colors_gxe)\n",
    "rects3 = ax.bar(x + width, data['Glicko-1'], width, label='Glicko-1', color=colors_glicko)\n",
    "\n",
    "ax.set_ylabel('Statistical Value')\n",
    "ax.set_title('Comparison of Statistics Between Generations')\n",
    "ax.set_xticks(x)\n",
    "ax.set_xticklabels(data['Generation'])\n",
    "ax.legend()\n",
    "\n",
    "plt.tight_layout()\n",
    "plt.show()\n"
   ],
   "metadata": {
    "collapsed": false,
    "ExecuteTime": {
     "end_time": "2024-12-23T16:42:45.443003200Z",
     "start_time": "2024-12-23T16:42:45.233742Z"
    }
   },
   "id": "f35a56b5696bf8aa"
  },
  {
   "cell_type": "markdown",
   "source": [
    "Add the final result"
   ],
   "metadata": {
    "collapsed": false
   },
   "id": "2335f2613f161589"
  },
  {
   "cell_type": "code",
   "execution_count": null,
   "outputs": [],
   "source": [],
   "metadata": {
    "collapsed": false,
    "ExecuteTime": {
     "start_time": "2024-12-23T16:42:43.733300Z"
    }
   },
   "id": "136b952af82cd005"
  }
 ],
 "metadata": {
  "kernelspec": {
   "display_name": "Python 3",
   "language": "python",
   "name": "python3"
  },
  "language_info": {
   "codemirror_mode": {
    "name": "ipython",
    "version": 3
   },
   "file_extension": ".py",
   "mimetype": "text/x-python",
   "name": "python",
   "nbconvert_exporter": "python",
   "pygments_lexer": "ipython3",
   "version": "3.12.2"
  },
  "vscode": {
   "interpreter": {
    "hash": "f1062708a37074d70712b695aadee582e0b0b9f95f45576b5521424137d05fec"
   }
  }
 },
 "nbformat": 4,
 "nbformat_minor": 5
}
